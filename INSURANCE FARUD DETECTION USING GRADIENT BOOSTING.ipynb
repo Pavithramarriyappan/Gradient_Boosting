{
 "cells": [
  {
   "cell_type": "markdown",
   "id": "d7c69604",
   "metadata": {},
   "source": [
    "# Insurance Fraud Detection Using Gradient Boosting Algorithm\n",
    "Insurance fraud poses a persistent threat to insurers, necessitating advanced detection methods. Leveraging **Gradient Boosting Classifier** (GBC), this study aims to enhance fraud detection efficacy in insurance claims. GBC, a robust ensemble learning algorithm, excels in uncovering complex fraud patterns within heterogeneous datasets. This paper explores GBC's application in insurance fraud detection, addressing challenges such as imbalanced data and evolving fraud tactics. Through empirical analysis, we demonstrate GBC's effectiveness in minimizing false positives while adapting to emerging fraud schemes. By harnessing the power of GBC, insurers can bolster their fraud detection capabilities, safeguarding financial assets and maintaining trust in the insurance industry."
   ]
  },
  {
   "cell_type": "markdown",
   "id": "be27f70b",
   "metadata": {},
   "source": [
    "# Import Needed Dataset"
   ]
  },
  {
   "cell_type": "code",
   "execution_count": 1,
   "id": "2a8e6c25",
   "metadata": {},
   "outputs": [],
   "source": [
    "import pandas as pd\n",
    "import numpy as np\n",
    "import matplotlib as mlp\n",
    "import matplotlib.pyplot as plt\n",
    "import seaborn as sns\n",
    "import sklearn as sk\n",
    "%matplotlib inline"
   ]
  },
  {
   "cell_type": "markdown",
   "id": "0ae9348c",
   "metadata": {},
   "source": [
    "# Explore the data set"
   ]
  },
  {
   "cell_type": "code",
   "execution_count": 2,
   "id": "f919dad4",
   "metadata": {},
   "outputs": [],
   "source": [
    "insurance=pd.read_excel(\"insurance_prediction.xlsx\")"
   ]
  },
  {
   "cell_type": "code",
   "execution_count": 3,
   "id": "097bf2ff",
   "metadata": {},
   "outputs": [
    {
     "data": {
      "text/html": [
       "<div>\n",
       "<style scoped>\n",
       "    .dataframe tbody tr th:only-of-type {\n",
       "        vertical-align: middle;\n",
       "    }\n",
       "\n",
       "    .dataframe tbody tr th {\n",
       "        vertical-align: top;\n",
       "    }\n",
       "\n",
       "    .dataframe thead th {\n",
       "        text-align: right;\n",
       "    }\n",
       "</style>\n",
       "<table border=\"1\" class=\"dataframe\">\n",
       "  <thead>\n",
       "    <tr style=\"text-align: right;\">\n",
       "      <th></th>\n",
       "      <th>months_as_customer</th>\n",
       "      <th>age</th>\n",
       "      <th>policy_number</th>\n",
       "      <th>policy_bind_date</th>\n",
       "      <th>policy_state</th>\n",
       "      <th>policy_csl</th>\n",
       "      <th>policy_deductable</th>\n",
       "      <th>policy_annual_premium</th>\n",
       "      <th>umbrella_limit</th>\n",
       "      <th>insured_zip</th>\n",
       "      <th>...</th>\n",
       "      <th>witnesses</th>\n",
       "      <th>police_report_available</th>\n",
       "      <th>total_claim_amount</th>\n",
       "      <th>injury_claim</th>\n",
       "      <th>property_claim</th>\n",
       "      <th>vehicle_claim</th>\n",
       "      <th>auto_make</th>\n",
       "      <th>auto_model</th>\n",
       "      <th>auto_year</th>\n",
       "      <th>fraud_reported</th>\n",
       "    </tr>\n",
       "  </thead>\n",
       "  <tbody>\n",
       "    <tr>\n",
       "      <th>0</th>\n",
       "      <td>328</td>\n",
       "      <td>48</td>\n",
       "      <td>521585</td>\n",
       "      <td>2014-10-17</td>\n",
       "      <td>OH</td>\n",
       "      <td>250/500</td>\n",
       "      <td>1000</td>\n",
       "      <td>1406.91</td>\n",
       "      <td>0</td>\n",
       "      <td>466132</td>\n",
       "      <td>...</td>\n",
       "      <td>2</td>\n",
       "      <td>YES</td>\n",
       "      <td>71610</td>\n",
       "      <td>6510</td>\n",
       "      <td>13020</td>\n",
       "      <td>52080</td>\n",
       "      <td>Saab</td>\n",
       "      <td>92x</td>\n",
       "      <td>2004</td>\n",
       "      <td>Y</td>\n",
       "    </tr>\n",
       "    <tr>\n",
       "      <th>1</th>\n",
       "      <td>228</td>\n",
       "      <td>42</td>\n",
       "      <td>342868</td>\n",
       "      <td>2006-06-27</td>\n",
       "      <td>IN</td>\n",
       "      <td>250/500</td>\n",
       "      <td>2000</td>\n",
       "      <td>1197.22</td>\n",
       "      <td>5000000</td>\n",
       "      <td>468176</td>\n",
       "      <td>...</td>\n",
       "      <td>0</td>\n",
       "      <td>?</td>\n",
       "      <td>5070</td>\n",
       "      <td>780</td>\n",
       "      <td>780</td>\n",
       "      <td>3510</td>\n",
       "      <td>Mercedes</td>\n",
       "      <td>E400</td>\n",
       "      <td>2007</td>\n",
       "      <td>Y</td>\n",
       "    </tr>\n",
       "    <tr>\n",
       "      <th>2</th>\n",
       "      <td>134</td>\n",
       "      <td>29</td>\n",
       "      <td>687698</td>\n",
       "      <td>2000-09-06</td>\n",
       "      <td>OH</td>\n",
       "      <td>100/300</td>\n",
       "      <td>2000</td>\n",
       "      <td>1413.14</td>\n",
       "      <td>5000000</td>\n",
       "      <td>430632</td>\n",
       "      <td>...</td>\n",
       "      <td>3</td>\n",
       "      <td>NO</td>\n",
       "      <td>34650</td>\n",
       "      <td>7700</td>\n",
       "      <td>3850</td>\n",
       "      <td>23100</td>\n",
       "      <td>Dodge</td>\n",
       "      <td>RAM</td>\n",
       "      <td>2007</td>\n",
       "      <td>N</td>\n",
       "    </tr>\n",
       "  </tbody>\n",
       "</table>\n",
       "<p>3 rows × 39 columns</p>\n",
       "</div>"
      ],
      "text/plain": [
       "   months_as_customer  age  policy_number policy_bind_date policy_state  \\\n",
       "0                 328   48         521585       2014-10-17           OH   \n",
       "1                 228   42         342868       2006-06-27           IN   \n",
       "2                 134   29         687698       2000-09-06           OH   \n",
       "\n",
       "  policy_csl  policy_deductable  policy_annual_premium  umbrella_limit  \\\n",
       "0    250/500               1000                1406.91               0   \n",
       "1    250/500               2000                1197.22         5000000   \n",
       "2    100/300               2000                1413.14         5000000   \n",
       "\n",
       "   insured_zip  ... witnesses police_report_available total_claim_amount  \\\n",
       "0       466132  ...         2                     YES              71610   \n",
       "1       468176  ...         0                       ?               5070   \n",
       "2       430632  ...         3                      NO              34650   \n",
       "\n",
       "  injury_claim property_claim  vehicle_claim  auto_make auto_model auto_year  \\\n",
       "0         6510          13020          52080       Saab        92x      2004   \n",
       "1          780            780           3510   Mercedes       E400      2007   \n",
       "2         7700           3850          23100      Dodge        RAM      2007   \n",
       "\n",
       "  fraud_reported  \n",
       "0              Y  \n",
       "1              Y  \n",
       "2              N  \n",
       "\n",
       "[3 rows x 39 columns]"
      ]
     },
     "execution_count": 3,
     "metadata": {},
     "output_type": "execute_result"
    }
   ],
   "source": [
    "insurance.head(3)"
   ]
  },
  {
   "cell_type": "code",
   "execution_count": 4,
   "id": "0b048e21",
   "metadata": {},
   "outputs": [
    {
     "data": {
      "text/plain": [
       "months_as_customer                      int64\n",
       "age                                     int64\n",
       "policy_number                           int64\n",
       "policy_bind_date               datetime64[ns]\n",
       "policy_state                           object\n",
       "policy_csl                             object\n",
       "policy_deductable                       int64\n",
       "policy_annual_premium                 float64\n",
       "umbrella_limit                          int64\n",
       "insured_zip                             int64\n",
       "insured_sex                            object\n",
       "insured_education_level                object\n",
       "insured_occupation                     object\n",
       "insured_hobbies                        object\n",
       "insured_relationship                   object\n",
       "capital-gains                           int64\n",
       "capital-loss                            int64\n",
       "incident_date                  datetime64[ns]\n",
       "incident_type                          object\n",
       "collision_type                         object\n",
       "incident_severity                      object\n",
       "authorities_contacted                  object\n",
       "incident_state                         object\n",
       "incident_city                          object\n",
       "incident_location                      object\n",
       "incident_hour_of_the_day                int64\n",
       "number_of_vehicles_involved             int64\n",
       "property_damage                        object\n",
       "bodily_injuries                         int64\n",
       "witnesses                               int64\n",
       "police_report_available                object\n",
       "total_claim_amount                      int64\n",
       "injury_claim                            int64\n",
       "property_claim                          int64\n",
       "vehicle_claim                           int64\n",
       "auto_make                              object\n",
       "auto_model                             object\n",
       "auto_year                               int64\n",
       "fraud_reported                         object\n",
       "dtype: object"
      ]
     },
     "execution_count": 4,
     "metadata": {},
     "output_type": "execute_result"
    }
   ],
   "source": [
    "insurance .dtypes"
   ]
  },
  {
   "cell_type": "code",
   "execution_count": 5,
   "id": "128cd72a",
   "metadata": {},
   "outputs": [
    {
     "data": {
      "text/plain": [
       "(1000, 39)"
      ]
     },
     "execution_count": 5,
     "metadata": {},
     "output_type": "execute_result"
    }
   ],
   "source": [
    "insurance.shape"
   ]
  },
  {
   "cell_type": "code",
   "execution_count": 8,
   "id": "17cd6201",
   "metadata": {},
   "outputs": [],
   "source": [
    "def nunique_all_columns(insurance):\n",
    "    return insurance.apply(pd.Series.nunique)"
   ]
  },
  {
   "cell_type": "code",
   "execution_count": 91,
   "id": "6b315ba3",
   "metadata": {},
   "outputs": [
    {
     "name": "stdout",
     "output_type": "stream",
     "text": [
      "months_as_customer              391\n",
      "age                              46\n",
      "policy_number                  1000\n",
      "policy_state                      3\n",
      "policy_deductable                 3\n",
      "policy_annual_premium           991\n",
      "umbrella_limit                   11\n",
      "insured_zip                     995\n",
      "insured_sex                       2\n",
      "insured_education_level           7\n",
      "insured_occupation               14\n",
      "insured_hobbies                  20\n",
      "insured_relationship              6\n",
      "capital-gains                   338\n",
      "capital-loss                    354\n",
      "incident_type                     4\n",
      "collision_type                    3\n",
      "incident_severity                 4\n",
      "authorities_contacted             5\n",
      "incident_state                    7\n",
      "incident_city                     7\n",
      "incident_hour_of_the_day         24\n",
      "number_of_vehicles_involved       4\n",
      "property_damage                   2\n",
      "bodily_injuries                   3\n",
      "witnesses                         4\n",
      "police_report_available           2\n",
      "total_claim_amount              763\n",
      "injury_claim                    638\n",
      "property_claim                  626\n",
      "vehicle_claim                   726\n",
      "auto_make                        14\n",
      "auto_model                       39\n",
      "auto_year                        21\n",
      "fraud_Reported                    2\n",
      "policy_bind_Date                 31\n",
      "policy_bind_month                12\n",
      "incident_Date                    31\n",
      "incident_month                    3\n",
      "dtype: int64\n"
     ]
    }
   ],
   "source": [
    "unique_counts = nunique_all_columns(insurance)\n",
    "print(unique_counts)\n"
   ]
  },
  {
   "cell_type": "markdown",
   "id": "cdfc44de",
   "metadata": {},
   "source": [
    "# Data Pre_processing"
   ]
  },
  {
   "cell_type": "code",
   "execution_count": 10,
   "id": "fce00e05",
   "metadata": {},
   "outputs": [
    {
     "data": {
      "text/plain": [
       "array(['YES', '?', 'NO'], dtype=object)"
      ]
     },
     "execution_count": 10,
     "metadata": {},
     "output_type": "execute_result"
    }
   ],
   "source": [
    "insurance[\"police_report_available\"].unique()"
   ]
  },
  {
   "cell_type": "code",
   "execution_count": 11,
   "id": "cd3117fd",
   "metadata": {},
   "outputs": [],
   "source": [
    "insurance.drop(\"policy_csl\",inplace=True,axis=1)"
   ]
  },
  {
   "cell_type": "code",
   "execution_count": 12,
   "id": "07748062",
   "metadata": {},
   "outputs": [
    {
     "data": {
      "text/plain": [
       "array(['MALE', 'FEMALE'], dtype=object)"
      ]
     },
     "execution_count": 12,
     "metadata": {},
     "output_type": "execute_result"
    }
   ],
   "source": [
    "insurance[\"insured_sex\"].unique()"
   ]
  },
  {
   "cell_type": "code",
   "execution_count": 13,
   "id": "a69d9c96",
   "metadata": {},
   "outputs": [],
   "source": [
    "insurance.drop(\"incident_location\",axis=1,inplace=True)"
   ]
  },
  {
   "cell_type": "code",
   "execution_count": 14,
   "id": "d687be3d",
   "metadata": {},
   "outputs": [
    {
     "data": {
      "text/plain": [
       "Index(['months_as_customer', 'age', 'policy_number', 'policy_bind_date',\n",
       "       'policy_state', 'policy_deductable', 'policy_annual_premium',\n",
       "       'umbrella_limit', 'insured_zip', 'insured_sex',\n",
       "       'insured_education_level', 'insured_occupation', 'insured_hobbies',\n",
       "       'insured_relationship', 'capital-gains', 'capital-loss',\n",
       "       'incident_date', 'incident_type', 'collision_type', 'incident_severity',\n",
       "       'authorities_contacted', 'incident_state', 'incident_city',\n",
       "       'incident_hour_of_the_day', 'number_of_vehicles_involved',\n",
       "       'property_damage', 'bodily_injuries', 'witnesses',\n",
       "       'police_report_available', 'total_claim_amount', 'injury_claim',\n",
       "       'property_claim', 'vehicle_claim', 'auto_make', 'auto_model',\n",
       "       'auto_year', 'fraud_reported'],\n",
       "      dtype='object')"
      ]
     },
     "execution_count": 14,
     "metadata": {},
     "output_type": "execute_result"
    }
   ],
   "source": [
    "insurance.columns"
   ]
  },
  {
   "cell_type": "markdown",
   "id": "0732bbaa",
   "metadata": {},
   "source": [
    "#  Data Analysis and Visualizatio"
   ]
  },
  {
   "cell_type": "code",
   "execution_count": 15,
   "id": "571b070d",
   "metadata": {},
   "outputs": [
    {
     "data": {
      "text/plain": [
       "<Axes: xlabel='fraud_reported', ylabel='Count'>"
      ]
     },
     "execution_count": 15,
     "metadata": {},
     "output_type": "execute_result"
    },
    {
     "data": {
      "image/png": "[encoded data removed]",
      "text/plain": [
       "<Figure size 640x480 with 1 Axes>"
      ]
     },
     "metadata": {},
     "output_type": "display_data"
    }
   ],
   "source": [
    "sns.histplot(x=insurance[\"fraud_reported\"],kde=True)"
   ]
  },
  {
   "cell_type": "code",
   "execution_count": 16,
   "id": "0ee465ec",
   "metadata": {},
   "outputs": [
    {
     "data": {
      "text/plain": [
       "<Axes: xlabel='insured_education_level', ylabel='capital-gains'>"
      ]
     },
     "execution_count": 16,
     "metadata": {},
     "output_type": "execute_result"
    },
    {
     "data": {
      "image/png": "[encoded data removed]",
      "text/plain": [
       "<Figure size 640x480 with 1 Axes>"
      ]
     },
     "metadata": {},
     "output_type": "display_data"
    }
   ],
   "source": [
    "sns.barplot(x=insurance[\"insured_education_level\"],y=insurance[\"capital-gains\"])"
   ]
  },
  {
   "cell_type": "code",
   "execution_count": 21,
   "id": "4629c3cb",
   "metadata": {},
   "outputs": [
    {
     "data": {
      "text/plain": [
       "Text(0.5, 1.0, 'Vehicle Involved in Accident')"
      ]
     },
     "execution_count": 21,
     "metadata": {},
     "output_type": "execute_result"
    },
    {
     "data": {
      "image/png": "[encoded data removed]",
      "text/plain": [
       "<Figure size 640x480 with 1 Axes>"
      ]
     },
     "metadata": {},
     "output_type": "display_data"
    }
   ],
   "source": [
    "sns.violinplot(x=insurance['number_of_vehicles_involved'],y=insurance['incident_type'],hue=insurance[\"bodily_injuries\"],\n",
    "               palette=['red','orange','k'])\n",
    "plt.title(\"Vehicle Involved in Accident\")"
   ]
  },
  {
   "cell_type": "code",
   "execution_count": 22,
   "id": "6171247d",
   "metadata": {},
   "outputs": [
    {
     "data": {
      "text/plain": [
       "Text(0.5, 1.0, 'Insurance Claim')"
      ]
     },
     "execution_count": 22,
     "metadata": {},
     "output_type": "execute_result"
    },
    {
     "data": {
      "image/png": "[encoded data removed]",
      "text/plain": [
       "<Figure size 640x480 with 1 Axes>"
      ]
     },
     "metadata": {},
     "output_type": "display_data"
    }
   ],
   "source": [
    "plt.scatter(insurance[\"total_claim_amount\"],insurance[\"injury_claim\"])\n",
    "plt.title(\"Insurance Claim\")"
   ]
  },
  {
   "cell_type": "code",
   "execution_count": 23,
   "id": "63098d12",
   "metadata": {},
   "outputs": [
    {
     "data": {
      "text/plain": [
       "Text(0.5, 1.0, 'Number of vehicle involved')"
      ]
     },
     "execution_count": 23,
     "metadata": {},
     "output_type": "execute_result"
    },
    {
     "data": {
      "image/png": "[encoded data removed]",
      "text/plain": [
       "<Figure size 640x480 with 1 Axes>"
      ]
     },
     "metadata": {},
     "output_type": "display_data"
    }
   ],
   "source": [
    "sns.histplot(x=insurance['number_of_vehicles_involved'])\n",
    "plt.title(\"Number of vehicle involved\")"
   ]
  },
  {
   "cell_type": "code",
   "execution_count": 24,
   "id": "68add0a8",
   "metadata": {},
   "outputs": [
    {
     "data": {
      "text/plain": [
       "Text(0.5, 1.0, 'Fraud_report')"
      ]
     },
     "execution_count": 24,
     "metadata": {},
     "output_type": "execute_result"
    },
    {
     "data": {
      "image/png": "[encoded data removed]",
      "text/plain": [
       "<Figure size 640x480 with 1 Axes>"
      ]
     },
     "metadata": {},
     "output_type": "display_data"
    }
   ],
   "source": [
    "count=sns.countplot(x=insurance['fraud_reported'])\n",
    "for i in count.containers:\n",
    "    count.bar_label(i)\n",
    "plt.title(\"Fraud_report\")"
   ]
  },
  {
   "cell_type": "code",
   "execution_count": 25,
   "id": "b2a07763",
   "metadata": {},
   "outputs": [
    {
     "data": {
      "text/plain": [
       "Text(0.5, 1.0, 'Policy State Vs Total Claim Amount')"
      ]
     },
     "execution_count": 25,
     "metadata": {},
     "output_type": "execute_result"
    },
    {
     "data": {
      "image/png": "[encoded data removed]",
      "text/plain": [
       "<Figure size 640x480 with 1 Axes>"
      ]
     },
     "metadata": {},
     "output_type": "display_data"
    }
   ],
   "source": [
    "sns.swarmplot(x=insurance[\"policy_state\"].head(500),y=insurance[\"total_claim_amount\"].head(500),color=\"brown\")\n",
    "plt.title(\"Policy State Vs Total Claim Amount\",fontsize=15)"
   ]
  },
  {
   "cell_type": "code",
   "execution_count": 94,
   "id": "2ff44604",
   "metadata": {},
   "outputs": [
    {
     "data": {
      "text/plain": [
       "<function matplotlib.pyplot.tight_layout(*, pad=1.08, h_pad=None, w_pad=None, rect=None)>"
      ]
     },
     "execution_count": 94,
     "metadata": {},
     "output_type": "execute_result"
    },
    {
     "data": {
      "text/plain": [
       "<Figure size 2000x500 with 0 Axes>"
      ]
     },
     "metadata": {},
     "output_type": "display_data"
    },
    {
     "data": {
      "image/png": "[encoded data removed]",
      "text/plain": [
       "<Figure size 640x480 with 2 Axes>"
      ]
     },
     "metadata": {},
     "output_type": "display_data"
    }
   ],
   "source": [
    "plt.figure(figsize=(20,5))\n",
    "\n",
    "fig,axes  = plt.subplots(nrows=2,ncols=1)\n",
    "plt.subplots_adjust(left=0.1,bottom=0.1,top=0.9, \n",
    "                    wspace=0.4,hspace=0.4)\n",
    "sns.scatterplot(y=insurance['property_claim'].head(20),x=insurance['vehicle_claim'].head(20),ax=axes[0])\n",
    "sns.stripplot(y=insurance['property_claim'].head(25),x=insurance['vehicle_claim'].head(25),linewidth=1,\n",
    "              ax=axes[1])\n",
    "\n",
    "plt.xticks(rotation=90)\n",
    "plt.tight_layout\n",
    "\n",
    "\n"
   ]
  },
  {
   "cell_type": "markdown",
   "id": "34bd362d",
   "metadata": {},
   "source": [
    "# Data Cleaning"
   ]
  },
  {
   "cell_type": "code",
   "execution_count": 27,
   "id": "e722ced5",
   "metadata": {},
   "outputs": [],
   "source": [
    "dic={\"N\":0,\"Y\":1}"
   ]
  },
  {
   "cell_type": "code",
   "execution_count": 28,
   "id": "1345d165",
   "metadata": {},
   "outputs": [],
   "source": [
    "insurance['fraud_Reported']=insurance['fraud_reported'].map(dic)"
   ]
  },
  {
   "cell_type": "code",
   "execution_count": 29,
   "id": "9c6560d8",
   "metadata": {},
   "outputs": [],
   "source": [
    "insurance.drop('fraud_reported',axis=1,inplace=True)"
   ]
  },
  {
   "cell_type": "code",
   "execution_count": 31,
   "id": "ba47b1d7",
   "metadata": {},
   "outputs": [],
   "source": [
    "pd.options.display.max_columns=39"
   ]
  },
  {
   "cell_type": "code",
   "execution_count": 32,
   "id": "0e45b58e",
   "metadata": {},
   "outputs": [
    {
     "data": {
      "text/html": [
       "<div>\n",
       "<style scoped>\n",
       "    .dataframe tbody tr th:only-of-type {\n",
       "        vertical-align: middle;\n",
       "    }\n",
       "\n",
       "    .dataframe tbody tr th {\n",
       "        vertical-align: top;\n",
       "    }\n",
       "\n",
       "    .dataframe thead th {\n",
       "        text-align: right;\n",
       "    }\n",
       "</style>\n",
       "<table border=\"1\" class=\"dataframe\">\n",
       "  <thead>\n",
       "    <tr style=\"text-align: right;\">\n",
       "      <th></th>\n",
       "      <th>months_as_customer</th>\n",
       "      <th>age</th>\n",
       "      <th>policy_number</th>\n",
       "      <th>policy_bind_date</th>\n",
       "      <th>policy_state</th>\n",
       "      <th>policy_deductable</th>\n",
       "      <th>policy_annual_premium</th>\n",
       "      <th>umbrella_limit</th>\n",
       "      <th>insured_zip</th>\n",
       "      <th>insured_sex</th>\n",
       "      <th>insured_education_level</th>\n",
       "      <th>insured_occupation</th>\n",
       "      <th>insured_hobbies</th>\n",
       "      <th>insured_relationship</th>\n",
       "      <th>capital-gains</th>\n",
       "      <th>capital-loss</th>\n",
       "      <th>incident_date</th>\n",
       "      <th>incident_type</th>\n",
       "      <th>collision_type</th>\n",
       "      <th>incident_severity</th>\n",
       "      <th>authorities_contacted</th>\n",
       "      <th>incident_state</th>\n",
       "      <th>incident_city</th>\n",
       "      <th>incident_hour_of_the_day</th>\n",
       "      <th>number_of_vehicles_involved</th>\n",
       "      <th>property_damage</th>\n",
       "      <th>bodily_injuries</th>\n",
       "      <th>witnesses</th>\n",
       "      <th>police_report_available</th>\n",
       "      <th>total_claim_amount</th>\n",
       "      <th>injury_claim</th>\n",
       "      <th>property_claim</th>\n",
       "      <th>vehicle_claim</th>\n",
       "      <th>auto_make</th>\n",
       "      <th>auto_model</th>\n",
       "      <th>auto_year</th>\n",
       "      <th>fraud_Reported</th>\n",
       "    </tr>\n",
       "  </thead>\n",
       "  <tbody>\n",
       "    <tr>\n",
       "      <th>0</th>\n",
       "      <td>328</td>\n",
       "      <td>48</td>\n",
       "      <td>521585</td>\n",
       "      <td>2014-10-17</td>\n",
       "      <td>OH</td>\n",
       "      <td>1000</td>\n",
       "      <td>1406.91</td>\n",
       "      <td>0</td>\n",
       "      <td>466132</td>\n",
       "      <td>MALE</td>\n",
       "      <td>MD</td>\n",
       "      <td>craft-repair</td>\n",
       "      <td>sleeping</td>\n",
       "      <td>husband</td>\n",
       "      <td>53300</td>\n",
       "      <td>0</td>\n",
       "      <td>2015-01-25</td>\n",
       "      <td>Single Vehicle Collision</td>\n",
       "      <td>Side Collision</td>\n",
       "      <td>Major Damage</td>\n",
       "      <td>Police</td>\n",
       "      <td>SC</td>\n",
       "      <td>Columbus</td>\n",
       "      <td>5</td>\n",
       "      <td>1</td>\n",
       "      <td>YES</td>\n",
       "      <td>1</td>\n",
       "      <td>2</td>\n",
       "      <td>YES</td>\n",
       "      <td>71610</td>\n",
       "      <td>6510</td>\n",
       "      <td>13020</td>\n",
       "      <td>52080</td>\n",
       "      <td>Saab</td>\n",
       "      <td>92x</td>\n",
       "      <td>2004</td>\n",
       "      <td>1</td>\n",
       "    </tr>\n",
       "    <tr>\n",
       "      <th>1</th>\n",
       "      <td>228</td>\n",
       "      <td>42</td>\n",
       "      <td>342868</td>\n",
       "      <td>2006-06-27</td>\n",
       "      <td>IN</td>\n",
       "      <td>2000</td>\n",
       "      <td>1197.22</td>\n",
       "      <td>5000000</td>\n",
       "      <td>468176</td>\n",
       "      <td>MALE</td>\n",
       "      <td>MD</td>\n",
       "      <td>machine-op-inspct</td>\n",
       "      <td>reading</td>\n",
       "      <td>other-relative</td>\n",
       "      <td>0</td>\n",
       "      <td>0</td>\n",
       "      <td>2015-01-21</td>\n",
       "      <td>Vehicle Theft</td>\n",
       "      <td>?</td>\n",
       "      <td>Minor Damage</td>\n",
       "      <td>Police</td>\n",
       "      <td>VA</td>\n",
       "      <td>Riverwood</td>\n",
       "      <td>8</td>\n",
       "      <td>1</td>\n",
       "      <td>?</td>\n",
       "      <td>0</td>\n",
       "      <td>0</td>\n",
       "      <td>?</td>\n",
       "      <td>5070</td>\n",
       "      <td>780</td>\n",
       "      <td>780</td>\n",
       "      <td>3510</td>\n",
       "      <td>Mercedes</td>\n",
       "      <td>E400</td>\n",
       "      <td>2007</td>\n",
       "      <td>1</td>\n",
       "    </tr>\n",
       "  </tbody>\n",
       "</table>\n",
       "</div>"
      ],
      "text/plain": [
       "   months_as_customer  age  policy_number policy_bind_date policy_state  \\\n",
       "0                 328   48         521585       2014-10-17           OH   \n",
       "1                 228   42         342868       2006-06-27           IN   \n",
       "\n",
       "   policy_deductable  policy_annual_premium  umbrella_limit  insured_zip  \\\n",
       "0               1000                1406.91               0       466132   \n",
       "1               2000                1197.22         5000000       468176   \n",
       "\n",
       "  insured_sex insured_education_level insured_occupation insured_hobbies  \\\n",
       "0        MALE                      MD       craft-repair        sleeping   \n",
       "1        MALE                      MD  machine-op-inspct         reading   \n",
       "\n",
       "  insured_relationship  capital-gains  capital-loss incident_date  \\\n",
       "0              husband          53300             0    2015-01-25   \n",
       "1       other-relative              0             0    2015-01-21   \n",
       "\n",
       "              incident_type  collision_type incident_severity  \\\n",
       "0  Single Vehicle Collision  Side Collision      Major Damage   \n",
       "1             Vehicle Theft               ?      Minor Damage   \n",
       "\n",
       "  authorities_contacted incident_state incident_city  \\\n",
       "0                Police             SC      Columbus   \n",
       "1                Police             VA     Riverwood   \n",
       "\n",
       "   incident_hour_of_the_day  number_of_vehicles_involved property_damage  \\\n",
       "0                         5                            1             YES   \n",
       "1                         8                            1               ?   \n",
       "\n",
       "   bodily_injuries  witnesses police_report_available  total_claim_amount  \\\n",
       "0                1          2                     YES               71610   \n",
       "1                0          0                       ?                5070   \n",
       "\n",
       "   injury_claim  property_claim  vehicle_claim auto_make auto_model  \\\n",
       "0          6510           13020          52080      Saab        92x   \n",
       "1           780             780           3510  Mercedes       E400   \n",
       "\n",
       "   auto_year  fraud_Reported  \n",
       "0       2004               1  \n",
       "1       2007               1  "
      ]
     },
     "execution_count": 32,
     "metadata": {},
     "output_type": "execute_result"
    }
   ],
   "source": [
    "insurance.head(2)"
   ]
  },
  {
   "cell_type": "code",
   "execution_count": 33,
   "id": "cce2c9c5",
   "metadata": {},
   "outputs": [],
   "source": [
    "\n",
    "insurance =insurance.replace('?',np.NaN)"
   ]
  },
  {
   "cell_type": "code",
   "execution_count": 34,
   "id": "7798c2b2",
   "metadata": {},
   "outputs": [
    {
     "data": {
      "text/plain": [
       "0      YES\n",
       "1      NaN\n",
       "2       NO\n",
       "3      NaN\n",
       "4       NO\n",
       "      ... \n",
       "995    YES\n",
       "996    YES\n",
       "997    NaN\n",
       "998    NaN\n",
       "999    NaN\n",
       "Name: property_damage, Length: 1000, dtype: object"
      ]
     },
     "execution_count": 34,
     "metadata": {},
     "output_type": "execute_result"
    }
   ],
   "source": [
    "insurance[\"property_damage\"]"
   ]
  },
  {
   "cell_type": "code",
   "execution_count": 35,
   "id": "5e231115",
   "metadata": {},
   "outputs": [
    {
     "data": {
      "text/plain": [
       "months_as_customer               0\n",
       "age                              0\n",
       "policy_number                    0\n",
       "policy_bind_date                 0\n",
       "policy_state                     0\n",
       "policy_deductable                0\n",
       "policy_annual_premium            0\n",
       "umbrella_limit                   0\n",
       "insured_zip                      0\n",
       "insured_sex                      0\n",
       "insured_education_level          0\n",
       "insured_occupation               0\n",
       "insured_hobbies                  0\n",
       "insured_relationship             0\n",
       "capital-gains                    0\n",
       "capital-loss                     0\n",
       "incident_date                    0\n",
       "incident_type                    0\n",
       "collision_type                 178\n",
       "incident_severity                0\n",
       "authorities_contacted            0\n",
       "incident_state                   0\n",
       "incident_city                    0\n",
       "incident_hour_of_the_day         0\n",
       "number_of_vehicles_involved      0\n",
       "property_damage                360\n",
       "bodily_injuries                  0\n",
       "witnesses                        0\n",
       "police_report_available        343\n",
       "total_claim_amount               0\n",
       "injury_claim                     0\n",
       "property_claim                   0\n",
       "vehicle_claim                    0\n",
       "auto_make                        0\n",
       "auto_model                       0\n",
       "auto_year                        0\n",
       "fraud_Reported                   0\n",
       "dtype: int64"
      ]
     },
     "execution_count": 35,
     "metadata": {},
     "output_type": "execute_result"
    }
   ],
   "source": [
    "insurance.isnull().sum()"
   ]
  },
  {
   "cell_type": "code",
   "execution_count": 36,
   "id": "5780ca18",
   "metadata": {},
   "outputs": [
    {
     "data": {
      "text/plain": [
       "array(['YES', nan, 'NO'], dtype=object)"
      ]
     },
     "execution_count": 36,
     "metadata": {},
     "output_type": "execute_result"
    }
   ],
   "source": [
    "insurance[\"property_damage\"].unique()"
   ]
  },
  {
   "cell_type": "code",
   "execution_count": 37,
   "id": "ee570a62",
   "metadata": {},
   "outputs": [
    {
     "data": {
      "text/html": [
       "<div>\n",
       "<style scoped>\n",
       "    .dataframe tbody tr th:only-of-type {\n",
       "        vertical-align: middle;\n",
       "    }\n",
       "\n",
       "    .dataframe tbody tr th {\n",
       "        vertical-align: top;\n",
       "    }\n",
       "\n",
       "    .dataframe thead th {\n",
       "        text-align: right;\n",
       "    }\n",
       "</style>\n",
       "<table border=\"1\" class=\"dataframe\">\n",
       "  <thead>\n",
       "    <tr style=\"text-align: right;\">\n",
       "      <th></th>\n",
       "      <th>index</th>\n",
       "      <th>property_damage</th>\n",
       "    </tr>\n",
       "  </thead>\n",
       "  <tbody>\n",
       "    <tr>\n",
       "      <th>0</th>\n",
       "      <td>NO</td>\n",
       "      <td>338</td>\n",
       "    </tr>\n",
       "    <tr>\n",
       "      <th>1</th>\n",
       "      <td>YES</td>\n",
       "      <td>302</td>\n",
       "    </tr>\n",
       "  </tbody>\n",
       "</table>\n",
       "</div>"
      ],
      "text/plain": [
       "  index  property_damage\n",
       "0    NO              338\n",
       "1   YES              302"
      ]
     },
     "execution_count": 37,
     "metadata": {},
     "output_type": "execute_result"
    }
   ],
   "source": [
    "insurance[\"property_damage\"].value_counts().reset_index()"
   ]
  },
  {
   "cell_type": "code",
   "execution_count": 38,
   "id": "5cd24e51",
   "metadata": {},
   "outputs": [],
   "source": [
    "\n",
    "insurance[\"property_damage\"].fillna(\"NO\",inplace=True)"
   ]
  },
  {
   "cell_type": "code",
   "execution_count": 39,
   "id": "2db8d992",
   "metadata": {},
   "outputs": [
    {
     "data": {
      "text/plain": [
       "NO     698\n",
       "YES    302\n",
       "Name: property_damage, dtype: int64"
      ]
     },
     "execution_count": 39,
     "metadata": {},
     "output_type": "execute_result"
    }
   ],
   "source": [
    "insurance[\"property_damage\"].value_counts()"
   ]
  },
  {
   "cell_type": "code",
   "execution_count": 40,
   "id": "66f8ac09",
   "metadata": {},
   "outputs": [],
   "source": [
    "insurance[\"police_report_available\"].fillna(\"NO\",inplace=True)"
   ]
  },
  {
   "cell_type": "code",
   "execution_count": 41,
   "id": "576f19f5",
   "metadata": {},
   "outputs": [
    {
     "data": {
      "text/plain": [
       "3"
      ]
     },
     "execution_count": 41,
     "metadata": {},
     "output_type": "execute_result"
    }
   ],
   "source": [
    "insurance[\"collision_type\"].nunique()"
   ]
  },
  {
   "cell_type": "code",
   "execution_count": 42,
   "id": "4eb04022",
   "metadata": {},
   "outputs": [
    {
     "data": {
      "text/plain": [
       "Rear Collision     292\n",
       "Side Collision     276\n",
       "Front Collision    254\n",
       "Name: collision_type, dtype: int64"
      ]
     },
     "execution_count": 42,
     "metadata": {},
     "output_type": "execute_result"
    }
   ],
   "source": [
    "insurance[\"collision_type\"].value_counts()"
   ]
  },
  {
   "cell_type": "code",
   "execution_count": 43,
   "id": "7d699b57",
   "metadata": {},
   "outputs": [],
   "source": [
    "insurance[\"collision_type\"].fillna(insurance[\"collision_type\"].mode()[0],inplace=True)"
   ]
  },
  {
   "cell_type": "code",
   "execution_count": 44,
   "id": "62add9a6",
   "metadata": {},
   "outputs": [
    {
     "data": {
      "text/plain": [
       "Rear Collision     470\n",
       "Side Collision     276\n",
       "Front Collision    254\n",
       "Name: collision_type, dtype: int64"
      ]
     },
     "execution_count": 44,
     "metadata": {},
     "output_type": "execute_result"
    }
   ],
   "source": [
    "insurance[\"collision_type\"].value_counts()"
   ]
  },
  {
   "cell_type": "code",
   "execution_count": 45,
   "id": "00a3caa7",
   "metadata": {},
   "outputs": [
    {
     "data": {
      "text/plain": [
       "months_as_customer             0\n",
       "age                            0\n",
       "policy_number                  0\n",
       "policy_bind_date               0\n",
       "policy_state                   0\n",
       "policy_deductable              0\n",
       "policy_annual_premium          0\n",
       "umbrella_limit                 0\n",
       "insured_zip                    0\n",
       "insured_sex                    0\n",
       "insured_education_level        0\n",
       "insured_occupation             0\n",
       "insured_hobbies                0\n",
       "insured_relationship           0\n",
       "capital-gains                  0\n",
       "capital-loss                   0\n",
       "incident_date                  0\n",
       "incident_type                  0\n",
       "collision_type                 0\n",
       "incident_severity              0\n",
       "authorities_contacted          0\n",
       "incident_state                 0\n",
       "incident_city                  0\n",
       "incident_hour_of_the_day       0\n",
       "number_of_vehicles_involved    0\n",
       "property_damage                0\n",
       "bodily_injuries                0\n",
       "witnesses                      0\n",
       "police_report_available        0\n",
       "total_claim_amount             0\n",
       "injury_claim                   0\n",
       "property_claim                 0\n",
       "vehicle_claim                  0\n",
       "auto_make                      0\n",
       "auto_model                     0\n",
       "auto_year                      0\n",
       "fraud_Reported                 0\n",
       "dtype: int64"
      ]
     },
     "execution_count": 45,
     "metadata": {},
     "output_type": "execute_result"
    }
   ],
   "source": [
    "insurance.isnull().sum()"
   ]
  },
  {
   "cell_type": "code",
   "execution_count": 46,
   "id": "ad207081",
   "metadata": {},
   "outputs": [
    {
     "data": {
      "text/plain": [
       "0     2015-01-25\n",
       "1     2015-01-21\n",
       "2     2015-02-22\n",
       "3     2015-01-10\n",
       "4     2015-02-17\n",
       "         ...    \n",
       "995   2015-02-22\n",
       "996   2015-01-24\n",
       "997   2015-01-23\n",
       "998   2015-02-26\n",
       "999   2015-02-26\n",
       "Name: incident_date, Length: 1000, dtype: datetime64[ns]"
      ]
     },
     "execution_count": 46,
     "metadata": {},
     "output_type": "execute_result"
    }
   ],
   "source": [
    "insurance[\"incident_date\"]"
   ]
  },
  {
   "cell_type": "code",
   "execution_count": 47,
   "id": "a9cfe8d0",
   "metadata": {},
   "outputs": [
    {
     "data": {
      "text/plain": [
       "0     2014-10-17\n",
       "1     2006-06-27\n",
       "2     2000-09-06\n",
       "3     1990-05-25\n",
       "4     2014-06-06\n",
       "         ...    \n",
       "995   1991-07-16\n",
       "996   2014-01-05\n",
       "997   2003-02-17\n",
       "998   2011-11-18\n",
       "999   1996-11-11\n",
       "Name: policy_bind_date, Length: 1000, dtype: datetime64[ns]"
      ]
     },
     "execution_count": 47,
     "metadata": {},
     "output_type": "execute_result"
    }
   ],
   "source": [
    "insurance[\"policy_bind_date\"]"
   ]
  },
  {
   "cell_type": "code",
   "execution_count": 48,
   "id": "20f24531",
   "metadata": {},
   "outputs": [],
   "source": [
    "def change_to_datetime(columns):\n",
    "    insurance[columns]=pd.to_datetime(insurance[columns],infer_datetime_format=True)"
   ]
  },
  {
   "cell_type": "code",
   "execution_count": 49,
   "id": "b7b495ec",
   "metadata": {},
   "outputs": [],
   "source": [
    "for i in['policy_bind_date',\"incident_date\"]:\n",
    "    change_to_datetime(i)"
   ]
  },
  {
   "cell_type": "code",
   "execution_count": 50,
   "id": "2196d1b5",
   "metadata": {},
   "outputs": [],
   "source": [
    "insurance[\"policy_bind_Date\"]=insurance[\"policy_bind_date\"].dt.day\n",
    "insurance[\"policy_bind_month\"]=insurance[\"policy_bind_date\"].dt.month\n",
    "\n",
    "insurance[\"incident_Date\"]=insurance[\"incident_date\"].dt.day\n",
    "insurance[\"incident_month\"]=insurance[\"incident_date\"].dt.month\n",
    "\n",
    "\n"
   ]
  },
  {
   "cell_type": "code",
   "execution_count": 51,
   "id": "3af1871a",
   "metadata": {},
   "outputs": [],
   "source": [
    "insurance.drop(\"policy_bind_date\",inplace=True,axis=1)"
   ]
  },
  {
   "cell_type": "code",
   "execution_count": 52,
   "id": "0557f689",
   "metadata": {},
   "outputs": [],
   "source": [
    "insurance.drop(\"incident_date\",inplace=True,axis=1)"
   ]
  },
  {
   "cell_type": "code",
   "execution_count": 53,
   "id": "1a1947a7",
   "metadata": {},
   "outputs": [
    {
     "data": {
      "text/plain": [
       "array(['MD', 'PhD', 'Associate', 'Masters', 'High School', 'College',\n",
       "       'JD'], dtype=object)"
      ]
     },
     "execution_count": 53,
     "metadata": {},
     "output_type": "execute_result"
    }
   ],
   "source": [
    "insurance[\"insured_education_level\"].unique()"
   ]
  },
  {
   "cell_type": "code",
   "execution_count": 54,
   "id": "0e845937",
   "metadata": {},
   "outputs": [],
   "source": [
    "insurance[\"police_report_available\"]=insurance[\"police_report_available\"].replace(('YES','NO'),(1,0))"
   ]
  },
  {
   "cell_type": "code",
   "execution_count": 55,
   "id": "d4b56e6d",
   "metadata": {},
   "outputs": [],
   "source": [
    "insurance[\"property_damage\"]=insurance[\"property_damage\"].replace((\"YES\",\"NO\"),(1,0))"
   ]
  },
  {
   "cell_type": "code",
   "execution_count": 56,
   "id": "ea8597a5",
   "metadata": {},
   "outputs": [],
   "source": [
    "insurance[\"insured_sex\"]=insurance[\"insured_sex\"].replace((\"MALE\",\"FEMALE\"),(1,0))"
   ]
  },
  {
   "cell_type": "code",
   "execution_count": 57,
   "id": "3616daf5",
   "metadata": {},
   "outputs": [
    {
     "data": {
      "text/plain": [
       "array(['craft-repair', 'machine-op-inspct', 'sales', 'armed-forces',\n",
       "       'tech-support', 'prof-specialty', 'other-service',\n",
       "       'priv-house-serv', 'exec-managerial', 'protective-serv',\n",
       "       'transport-moving', 'handlers-cleaners', 'adm-clerical',\n",
       "       'farming-fishing'], dtype=object)"
      ]
     },
     "execution_count": 57,
     "metadata": {},
     "output_type": "execute_result"
    }
   ],
   "source": [
    "insurance[\"insured_occupation\"].unique()"
   ]
  },
  {
   "cell_type": "code",
   "execution_count": 58,
   "id": "ada31b04",
   "metadata": {},
   "outputs": [],
   "source": [
    "cat_data= [columns for columns in insurance.columns if insurance[columns].dtypes=='O']"
   ]
  },
  {
   "cell_type": "code",
   "execution_count": 59,
   "id": "44b61d1a",
   "metadata": {},
   "outputs": [],
   "source": [
    "cont_data= [columns for columns in insurance.columns if insurance[columns].dtypes!='O']"
   ]
  },
  {
   "cell_type": "code",
   "execution_count": 60,
   "id": "d449d01b",
   "metadata": {},
   "outputs": [],
   "source": [
    "cont_data=insurance[cont_data]"
   ]
  },
  {
   "cell_type": "code",
   "execution_count": 61,
   "id": "a115bba3",
   "metadata": {},
   "outputs": [],
   "source": [
    "cat_data=insurance[cat_data]"
   ]
  },
  {
   "cell_type": "code",
   "execution_count": 62,
   "id": "d2e2f462",
   "metadata": {},
   "outputs": [
    {
     "data": {
      "text/plain": [
       "Index(['policy_state', 'insured_education_level', 'insured_occupation',\n",
       "       'insured_hobbies', 'insured_relationship', 'incident_type',\n",
       "       'collision_type', 'incident_severity', 'authorities_contacted',\n",
       "       'incident_state', 'incident_city', 'auto_make', 'auto_model'],\n",
       "      dtype='object')"
      ]
     },
     "execution_count": 62,
     "metadata": {},
     "output_type": "execute_result"
    }
   ],
   "source": [
    "cat_data.columns"
   ]
  },
  {
   "cell_type": "code",
   "execution_count": 63,
   "id": "e4168017",
   "metadata": {},
   "outputs": [],
   "source": [
    "cat_data=pd.get_dummies(cat_data)"
   ]
  },
  {
   "cell_type": "code",
   "execution_count": 65,
   "id": "3c0283c1",
   "metadata": {},
   "outputs": [
    {
     "data": {
      "text/plain": [
       "policy_state_IL                      uint8\n",
       "policy_state_IN                      uint8\n",
       "policy_state_OH                      uint8\n",
       "insured_education_level_Associate    uint8\n",
       "insured_education_level_College      uint8\n",
       "                                     ...  \n",
       "auto_model_Tahoe                     uint8\n",
       "auto_model_Ultima                    uint8\n",
       "auto_model_Wrangler                  uint8\n",
       "auto_model_X5                        uint8\n",
       "auto_model_X6                        uint8\n",
       "Length: 133, dtype: object"
      ]
     },
     "execution_count": 65,
     "metadata": {},
     "output_type": "execute_result"
    }
   ],
   "source": [
    "cat_data.dtypes"
   ]
  },
  {
   "cell_type": "code",
   "execution_count": 66,
   "id": "cd62e7c0",
   "metadata": {},
   "outputs": [
    {
     "data": {
      "text/html": [
       "<div>\n",
       "<style scoped>\n",
       "    .dataframe tbody tr th:only-of-type {\n",
       "        vertical-align: middle;\n",
       "    }\n",
       "\n",
       "    .dataframe tbody tr th {\n",
       "        vertical-align: top;\n",
       "    }\n",
       "\n",
       "    .dataframe thead th {\n",
       "        text-align: right;\n",
       "    }\n",
       "</style>\n",
       "<table border=\"1\" class=\"dataframe\">\n",
       "  <thead>\n",
       "    <tr style=\"text-align: right;\">\n",
       "      <th></th>\n",
       "      <th>policy_state_IL</th>\n",
       "      <th>policy_state_IN</th>\n",
       "      <th>policy_state_OH</th>\n",
       "      <th>insured_education_level_Associate</th>\n",
       "      <th>insured_education_level_College</th>\n",
       "      <th>insured_education_level_High School</th>\n",
       "      <th>insured_education_level_JD</th>\n",
       "      <th>insured_education_level_MD</th>\n",
       "      <th>insured_education_level_Masters</th>\n",
       "      <th>insured_education_level_PhD</th>\n",
       "      <th>insured_occupation_adm-clerical</th>\n",
       "      <th>insured_occupation_armed-forces</th>\n",
       "      <th>insured_occupation_craft-repair</th>\n",
       "      <th>insured_occupation_exec-managerial</th>\n",
       "      <th>insured_occupation_farming-fishing</th>\n",
       "      <th>insured_occupation_handlers-cleaners</th>\n",
       "      <th>insured_occupation_machine-op-inspct</th>\n",
       "      <th>insured_occupation_other-service</th>\n",
       "      <th>insured_occupation_priv-house-serv</th>\n",
       "      <th>...</th>\n",
       "      <th>auto_model_Jetta</th>\n",
       "      <th>auto_model_Legacy</th>\n",
       "      <th>auto_model_M5</th>\n",
       "      <th>auto_model_MDX</th>\n",
       "      <th>auto_model_ML350</th>\n",
       "      <th>auto_model_Malibu</th>\n",
       "      <th>auto_model_Maxima</th>\n",
       "      <th>auto_model_Neon</th>\n",
       "      <th>auto_model_Passat</th>\n",
       "      <th>auto_model_Pathfinder</th>\n",
       "      <th>auto_model_RAM</th>\n",
       "      <th>auto_model_RSX</th>\n",
       "      <th>auto_model_Silverado</th>\n",
       "      <th>auto_model_TL</th>\n",
       "      <th>auto_model_Tahoe</th>\n",
       "      <th>auto_model_Ultima</th>\n",
       "      <th>auto_model_Wrangler</th>\n",
       "      <th>auto_model_X5</th>\n",
       "      <th>auto_model_X6</th>\n",
       "    </tr>\n",
       "  </thead>\n",
       "  <tbody>\n",
       "    <tr>\n",
       "      <th>0</th>\n",
       "      <td>0</td>\n",
       "      <td>0</td>\n",
       "      <td>1</td>\n",
       "      <td>0</td>\n",
       "      <td>0</td>\n",
       "      <td>0</td>\n",
       "      <td>0</td>\n",
       "      <td>1</td>\n",
       "      <td>0</td>\n",
       "      <td>0</td>\n",
       "      <td>0</td>\n",
       "      <td>0</td>\n",
       "      <td>1</td>\n",
       "      <td>0</td>\n",
       "      <td>0</td>\n",
       "      <td>0</td>\n",
       "      <td>0</td>\n",
       "      <td>0</td>\n",
       "      <td>0</td>\n",
       "      <td>...</td>\n",
       "      <td>0</td>\n",
       "      <td>0</td>\n",
       "      <td>0</td>\n",
       "      <td>0</td>\n",
       "      <td>0</td>\n",
       "      <td>0</td>\n",
       "      <td>0</td>\n",
       "      <td>0</td>\n",
       "      <td>0</td>\n",
       "      <td>0</td>\n",
       "      <td>0</td>\n",
       "      <td>0</td>\n",
       "      <td>0</td>\n",
       "      <td>0</td>\n",
       "      <td>0</td>\n",
       "      <td>0</td>\n",
       "      <td>0</td>\n",
       "      <td>0</td>\n",
       "      <td>0</td>\n",
       "    </tr>\n",
       "    <tr>\n",
       "      <th>1</th>\n",
       "      <td>0</td>\n",
       "      <td>1</td>\n",
       "      <td>0</td>\n",
       "      <td>0</td>\n",
       "      <td>0</td>\n",
       "      <td>0</td>\n",
       "      <td>0</td>\n",
       "      <td>1</td>\n",
       "      <td>0</td>\n",
       "      <td>0</td>\n",
       "      <td>0</td>\n",
       "      <td>0</td>\n",
       "      <td>0</td>\n",
       "      <td>0</td>\n",
       "      <td>0</td>\n",
       "      <td>0</td>\n",
       "      <td>1</td>\n",
       "      <td>0</td>\n",
       "      <td>0</td>\n",
       "      <td>...</td>\n",
       "      <td>0</td>\n",
       "      <td>0</td>\n",
       "      <td>0</td>\n",
       "      <td>0</td>\n",
       "      <td>0</td>\n",
       "      <td>0</td>\n",
       "      <td>0</td>\n",
       "      <td>0</td>\n",
       "      <td>0</td>\n",
       "      <td>0</td>\n",
       "      <td>0</td>\n",
       "      <td>0</td>\n",
       "      <td>0</td>\n",
       "      <td>0</td>\n",
       "      <td>0</td>\n",
       "      <td>0</td>\n",
       "      <td>0</td>\n",
       "      <td>0</td>\n",
       "      <td>0</td>\n",
       "    </tr>\n",
       "    <tr>\n",
       "      <th>2</th>\n",
       "      <td>0</td>\n",
       "      <td>0</td>\n",
       "      <td>1</td>\n",
       "      <td>0</td>\n",
       "      <td>0</td>\n",
       "      <td>0</td>\n",
       "      <td>0</td>\n",
       "      <td>0</td>\n",
       "      <td>0</td>\n",
       "      <td>1</td>\n",
       "      <td>0</td>\n",
       "      <td>0</td>\n",
       "      <td>0</td>\n",
       "      <td>0</td>\n",
       "      <td>0</td>\n",
       "      <td>0</td>\n",
       "      <td>0</td>\n",
       "      <td>0</td>\n",
       "      <td>0</td>\n",
       "      <td>...</td>\n",
       "      <td>0</td>\n",
       "      <td>0</td>\n",
       "      <td>0</td>\n",
       "      <td>0</td>\n",
       "      <td>0</td>\n",
       "      <td>0</td>\n",
       "      <td>0</td>\n",
       "      <td>0</td>\n",
       "      <td>0</td>\n",
       "      <td>0</td>\n",
       "      <td>1</td>\n",
       "      <td>0</td>\n",
       "      <td>0</td>\n",
       "      <td>0</td>\n",
       "      <td>0</td>\n",
       "      <td>0</td>\n",
       "      <td>0</td>\n",
       "      <td>0</td>\n",
       "      <td>0</td>\n",
       "    </tr>\n",
       "    <tr>\n",
       "      <th>3</th>\n",
       "      <td>1</td>\n",
       "      <td>0</td>\n",
       "      <td>0</td>\n",
       "      <td>0</td>\n",
       "      <td>0</td>\n",
       "      <td>0</td>\n",
       "      <td>0</td>\n",
       "      <td>0</td>\n",
       "      <td>0</td>\n",
       "      <td>1</td>\n",
       "      <td>0</td>\n",
       "      <td>1</td>\n",
       "      <td>0</td>\n",
       "      <td>0</td>\n",
       "      <td>0</td>\n",
       "      <td>0</td>\n",
       "      <td>0</td>\n",
       "      <td>0</td>\n",
       "      <td>0</td>\n",
       "      <td>...</td>\n",
       "      <td>0</td>\n",
       "      <td>0</td>\n",
       "      <td>0</td>\n",
       "      <td>0</td>\n",
       "      <td>0</td>\n",
       "      <td>0</td>\n",
       "      <td>0</td>\n",
       "      <td>0</td>\n",
       "      <td>0</td>\n",
       "      <td>0</td>\n",
       "      <td>0</td>\n",
       "      <td>0</td>\n",
       "      <td>0</td>\n",
       "      <td>0</td>\n",
       "      <td>1</td>\n",
       "      <td>0</td>\n",
       "      <td>0</td>\n",
       "      <td>0</td>\n",
       "      <td>0</td>\n",
       "    </tr>\n",
       "    <tr>\n",
       "      <th>4</th>\n",
       "      <td>1</td>\n",
       "      <td>0</td>\n",
       "      <td>0</td>\n",
       "      <td>1</td>\n",
       "      <td>0</td>\n",
       "      <td>0</td>\n",
       "      <td>0</td>\n",
       "      <td>0</td>\n",
       "      <td>0</td>\n",
       "      <td>0</td>\n",
       "      <td>0</td>\n",
       "      <td>0</td>\n",
       "      <td>0</td>\n",
       "      <td>0</td>\n",
       "      <td>0</td>\n",
       "      <td>0</td>\n",
       "      <td>0</td>\n",
       "      <td>0</td>\n",
       "      <td>0</td>\n",
       "      <td>...</td>\n",
       "      <td>0</td>\n",
       "      <td>0</td>\n",
       "      <td>0</td>\n",
       "      <td>0</td>\n",
       "      <td>0</td>\n",
       "      <td>0</td>\n",
       "      <td>0</td>\n",
       "      <td>0</td>\n",
       "      <td>0</td>\n",
       "      <td>0</td>\n",
       "      <td>0</td>\n",
       "      <td>1</td>\n",
       "      <td>0</td>\n",
       "      <td>0</td>\n",
       "      <td>0</td>\n",
       "      <td>0</td>\n",
       "      <td>0</td>\n",
       "      <td>0</td>\n",
       "      <td>0</td>\n",
       "    </tr>\n",
       "  </tbody>\n",
       "</table>\n",
       "<p>5 rows × 133 columns</p>\n",
       "</div>"
      ],
      "text/plain": [
       "   policy_state_IL  policy_state_IN  policy_state_OH  \\\n",
       "0                0                0                1   \n",
       "1                0                1                0   \n",
       "2                0                0                1   \n",
       "3                1                0                0   \n",
       "4                1                0                0   \n",
       "\n",
       "   insured_education_level_Associate  insured_education_level_College  \\\n",
       "0                                  0                                0   \n",
       "1                                  0                                0   \n",
       "2                                  0                                0   \n",
       "3                                  0                                0   \n",
       "4                                  1                                0   \n",
       "\n",
       "   insured_education_level_High School  insured_education_level_JD  \\\n",
       "0                                    0                           0   \n",
       "1                                    0                           0   \n",
       "2                                    0                           0   \n",
       "3                                    0                           0   \n",
       "4                                    0                           0   \n",
       "\n",
       "   insured_education_level_MD  insured_education_level_Masters  \\\n",
       "0                           1                                0   \n",
       "1                           1                                0   \n",
       "2                           0                                0   \n",
       "3                           0                                0   \n",
       "4                           0                                0   \n",
       "\n",
       "   insured_education_level_PhD  insured_occupation_adm-clerical  \\\n",
       "0                            0                                0   \n",
       "1                            0                                0   \n",
       "2                            1                                0   \n",
       "3                            1                                0   \n",
       "4                            0                                0   \n",
       "\n",
       "   insured_occupation_armed-forces  insured_occupation_craft-repair  \\\n",
       "0                                0                                1   \n",
       "1                                0                                0   \n",
       "2                                0                                0   \n",
       "3                                1                                0   \n",
       "4                                0                                0   \n",
       "\n",
       "   insured_occupation_exec-managerial  insured_occupation_farming-fishing  \\\n",
       "0                                   0                                   0   \n",
       "1                                   0                                   0   \n",
       "2                                   0                                   0   \n",
       "3                                   0                                   0   \n",
       "4                                   0                                   0   \n",
       "\n",
       "   insured_occupation_handlers-cleaners  insured_occupation_machine-op-inspct  \\\n",
       "0                                     0                                     0   \n",
       "1                                     0                                     1   \n",
       "2                                     0                                     0   \n",
       "3                                     0                                     0   \n",
       "4                                     0                                     0   \n",
       "\n",
       "   insured_occupation_other-service  insured_occupation_priv-house-serv  ...  \\\n",
       "0                                 0                                   0  ...   \n",
       "1                                 0                                   0  ...   \n",
       "2                                 0                                   0  ...   \n",
       "3                                 0                                   0  ...   \n",
       "4                                 0                                   0  ...   \n",
       "\n",
       "   auto_model_Jetta  auto_model_Legacy  auto_model_M5  auto_model_MDX  \\\n",
       "0                 0                  0              0               0   \n",
       "1                 0                  0              0               0   \n",
       "2                 0                  0              0               0   \n",
       "3                 0                  0              0               0   \n",
       "4                 0                  0              0               0   \n",
       "\n",
       "   auto_model_ML350  auto_model_Malibu  auto_model_Maxima  auto_model_Neon  \\\n",
       "0                 0                  0                  0                0   \n",
       "1                 0                  0                  0                0   \n",
       "2                 0                  0                  0                0   \n",
       "3                 0                  0                  0                0   \n",
       "4                 0                  0                  0                0   \n",
       "\n",
       "   auto_model_Passat  auto_model_Pathfinder  auto_model_RAM  auto_model_RSX  \\\n",
       "0                  0                      0               0               0   \n",
       "1                  0                      0               0               0   \n",
       "2                  0                      0               1               0   \n",
       "3                  0                      0               0               0   \n",
       "4                  0                      0               0               1   \n",
       "\n",
       "   auto_model_Silverado  auto_model_TL  auto_model_Tahoe  auto_model_Ultima  \\\n",
       "0                     0              0                 0                  0   \n",
       "1                     0              0                 0                  0   \n",
       "2                     0              0                 0                  0   \n",
       "3                     0              0                 1                  0   \n",
       "4                     0              0                 0                  0   \n",
       "\n",
       "   auto_model_Wrangler  auto_model_X5  auto_model_X6  \n",
       "0                    0              0              0  \n",
       "1                    0              0              0  \n",
       "2                    0              0              0  \n",
       "3                    0              0              0  \n",
       "4                    0              0              0  \n",
       "\n",
       "[5 rows x 133 columns]"
      ]
     },
     "execution_count": 66,
     "metadata": {},
     "output_type": "execute_result"
    }
   ],
   "source": [
    "cat_data.head(5)"
   ]
  },
  {
   "cell_type": "code",
   "execution_count": 67,
   "id": "f012b89e",
   "metadata": {},
   "outputs": [
    {
     "data": {
      "text/plain": [
       "policy_state_IL                      0\n",
       "policy_state_IN                      0\n",
       "policy_state_OH                      0\n",
       "insured_education_level_Associate    0\n",
       "insured_education_level_College      0\n",
       "                                    ..\n",
       "auto_model_Tahoe                     0\n",
       "auto_model_Ultima                    0\n",
       "auto_model_Wrangler                  0\n",
       "auto_model_X5                        0\n",
       "auto_model_X6                        0\n",
       "Length: 133, dtype: int64"
      ]
     },
     "execution_count": 67,
     "metadata": {},
     "output_type": "execute_result"
    }
   ],
   "source": [
    "cat_data.isnull().sum()"
   ]
  },
  {
   "cell_type": "code",
   "execution_count": 68,
   "id": "c2f5aeb6",
   "metadata": {},
   "outputs": [],
   "source": [
    "new_data=pd.concat([cat_data,cont_data],axis=1)"
   ]
  },
  {
   "cell_type": "code",
   "execution_count": 69,
   "id": "26f7d8ee",
   "metadata": {},
   "outputs": [
    {
     "data": {
      "text/html": [
       "<div>\n",
       "<style scoped>\n",
       "    .dataframe tbody tr th:only-of-type {\n",
       "        vertical-align: middle;\n",
       "    }\n",
       "\n",
       "    .dataframe tbody tr th {\n",
       "        vertical-align: top;\n",
       "    }\n",
       "\n",
       "    .dataframe thead th {\n",
       "        text-align: right;\n",
       "    }\n",
       "</style>\n",
       "<table border=\"1\" class=\"dataframe\">\n",
       "  <thead>\n",
       "    <tr style=\"text-align: right;\">\n",
       "      <th></th>\n",
       "      <th>policy_state_IL</th>\n",
       "      <th>policy_state_IN</th>\n",
       "      <th>policy_state_OH</th>\n",
       "      <th>insured_education_level_Associate</th>\n",
       "      <th>insured_education_level_College</th>\n",
       "      <th>insured_education_level_High School</th>\n",
       "      <th>insured_education_level_JD</th>\n",
       "      <th>insured_education_level_MD</th>\n",
       "      <th>insured_education_level_Masters</th>\n",
       "      <th>insured_education_level_PhD</th>\n",
       "      <th>insured_occupation_adm-clerical</th>\n",
       "      <th>insured_occupation_armed-forces</th>\n",
       "      <th>insured_occupation_craft-repair</th>\n",
       "      <th>insured_occupation_exec-managerial</th>\n",
       "      <th>insured_occupation_farming-fishing</th>\n",
       "      <th>insured_occupation_handlers-cleaners</th>\n",
       "      <th>insured_occupation_machine-op-inspct</th>\n",
       "      <th>insured_occupation_other-service</th>\n",
       "      <th>insured_occupation_priv-house-serv</th>\n",
       "      <th>...</th>\n",
       "      <th>insured_sex</th>\n",
       "      <th>capital-gains</th>\n",
       "      <th>capital-loss</th>\n",
       "      <th>incident_hour_of_the_day</th>\n",
       "      <th>number_of_vehicles_involved</th>\n",
       "      <th>property_damage</th>\n",
       "      <th>bodily_injuries</th>\n",
       "      <th>witnesses</th>\n",
       "      <th>police_report_available</th>\n",
       "      <th>total_claim_amount</th>\n",
       "      <th>injury_claim</th>\n",
       "      <th>property_claim</th>\n",
       "      <th>vehicle_claim</th>\n",
       "      <th>auto_year</th>\n",
       "      <th>fraud_Reported</th>\n",
       "      <th>policy_bind_Date</th>\n",
       "      <th>policy_bind_month</th>\n",
       "      <th>incident_Date</th>\n",
       "      <th>incident_month</th>\n",
       "    </tr>\n",
       "  </thead>\n",
       "  <tbody>\n",
       "    <tr>\n",
       "      <th>0</th>\n",
       "      <td>0</td>\n",
       "      <td>0</td>\n",
       "      <td>1</td>\n",
       "      <td>0</td>\n",
       "      <td>0</td>\n",
       "      <td>0</td>\n",
       "      <td>0</td>\n",
       "      <td>1</td>\n",
       "      <td>0</td>\n",
       "      <td>0</td>\n",
       "      <td>0</td>\n",
       "      <td>0</td>\n",
       "      <td>1</td>\n",
       "      <td>0</td>\n",
       "      <td>0</td>\n",
       "      <td>0</td>\n",
       "      <td>0</td>\n",
       "      <td>0</td>\n",
       "      <td>0</td>\n",
       "      <td>...</td>\n",
       "      <td>1</td>\n",
       "      <td>53300</td>\n",
       "      <td>0</td>\n",
       "      <td>5</td>\n",
       "      <td>1</td>\n",
       "      <td>1</td>\n",
       "      <td>1</td>\n",
       "      <td>2</td>\n",
       "      <td>1</td>\n",
       "      <td>71610</td>\n",
       "      <td>6510</td>\n",
       "      <td>13020</td>\n",
       "      <td>52080</td>\n",
       "      <td>2004</td>\n",
       "      <td>1</td>\n",
       "      <td>17</td>\n",
       "      <td>10</td>\n",
       "      <td>25</td>\n",
       "      <td>1</td>\n",
       "    </tr>\n",
       "    <tr>\n",
       "      <th>1</th>\n",
       "      <td>0</td>\n",
       "      <td>1</td>\n",
       "      <td>0</td>\n",
       "      <td>0</td>\n",
       "      <td>0</td>\n",
       "      <td>0</td>\n",
       "      <td>0</td>\n",
       "      <td>1</td>\n",
       "      <td>0</td>\n",
       "      <td>0</td>\n",
       "      <td>0</td>\n",
       "      <td>0</td>\n",
       "      <td>0</td>\n",
       "      <td>0</td>\n",
       "      <td>0</td>\n",
       "      <td>0</td>\n",
       "      <td>1</td>\n",
       "      <td>0</td>\n",
       "      <td>0</td>\n",
       "      <td>...</td>\n",
       "      <td>1</td>\n",
       "      <td>0</td>\n",
       "      <td>0</td>\n",
       "      <td>8</td>\n",
       "      <td>1</td>\n",
       "      <td>0</td>\n",
       "      <td>0</td>\n",
       "      <td>0</td>\n",
       "      <td>0</td>\n",
       "      <td>5070</td>\n",
       "      <td>780</td>\n",
       "      <td>780</td>\n",
       "      <td>3510</td>\n",
       "      <td>2007</td>\n",
       "      <td>1</td>\n",
       "      <td>27</td>\n",
       "      <td>6</td>\n",
       "      <td>21</td>\n",
       "      <td>1</td>\n",
       "    </tr>\n",
       "    <tr>\n",
       "      <th>2</th>\n",
       "      <td>0</td>\n",
       "      <td>0</td>\n",
       "      <td>1</td>\n",
       "      <td>0</td>\n",
       "      <td>0</td>\n",
       "      <td>0</td>\n",
       "      <td>0</td>\n",
       "      <td>0</td>\n",
       "      <td>0</td>\n",
       "      <td>1</td>\n",
       "      <td>0</td>\n",
       "      <td>0</td>\n",
       "      <td>0</td>\n",
       "      <td>0</td>\n",
       "      <td>0</td>\n",
       "      <td>0</td>\n",
       "      <td>0</td>\n",
       "      <td>0</td>\n",
       "      <td>0</td>\n",
       "      <td>...</td>\n",
       "      <td>0</td>\n",
       "      <td>35100</td>\n",
       "      <td>0</td>\n",
       "      <td>7</td>\n",
       "      <td>3</td>\n",
       "      <td>0</td>\n",
       "      <td>2</td>\n",
       "      <td>3</td>\n",
       "      <td>0</td>\n",
       "      <td>34650</td>\n",
       "      <td>7700</td>\n",
       "      <td>3850</td>\n",
       "      <td>23100</td>\n",
       "      <td>2007</td>\n",
       "      <td>0</td>\n",
       "      <td>6</td>\n",
       "      <td>9</td>\n",
       "      <td>22</td>\n",
       "      <td>2</td>\n",
       "    </tr>\n",
       "  </tbody>\n",
       "</table>\n",
       "<p>3 rows × 159 columns</p>\n",
       "</div>"
      ],
      "text/plain": [
       "   policy_state_IL  policy_state_IN  policy_state_OH  \\\n",
       "0                0                0                1   \n",
       "1                0                1                0   \n",
       "2                0                0                1   \n",
       "\n",
       "   insured_education_level_Associate  insured_education_level_College  \\\n",
       "0                                  0                                0   \n",
       "1                                  0                                0   \n",
       "2                                  0                                0   \n",
       "\n",
       "   insured_education_level_High School  insured_education_level_JD  \\\n",
       "0                                    0                           0   \n",
       "1                                    0                           0   \n",
       "2                                    0                           0   \n",
       "\n",
       "   insured_education_level_MD  insured_education_level_Masters  \\\n",
       "0                           1                                0   \n",
       "1                           1                                0   \n",
       "2                           0                                0   \n",
       "\n",
       "   insured_education_level_PhD  insured_occupation_adm-clerical  \\\n",
       "0                            0                                0   \n",
       "1                            0                                0   \n",
       "2                            1                                0   \n",
       "\n",
       "   insured_occupation_armed-forces  insured_occupation_craft-repair  \\\n",
       "0                                0                                1   \n",
       "1                                0                                0   \n",
       "2                                0                                0   \n",
       "\n",
       "   insured_occupation_exec-managerial  insured_occupation_farming-fishing  \\\n",
       "0                                   0                                   0   \n",
       "1                                   0                                   0   \n",
       "2                                   0                                   0   \n",
       "\n",
       "   insured_occupation_handlers-cleaners  insured_occupation_machine-op-inspct  \\\n",
       "0                                     0                                     0   \n",
       "1                                     0                                     1   \n",
       "2                                     0                                     0   \n",
       "\n",
       "   insured_occupation_other-service  insured_occupation_priv-house-serv  ...  \\\n",
       "0                                 0                                   0  ...   \n",
       "1                                 0                                   0  ...   \n",
       "2                                 0                                   0  ...   \n",
       "\n",
       "   insured_sex  capital-gains  capital-loss  incident_hour_of_the_day  \\\n",
       "0            1          53300             0                         5   \n",
       "1            1              0             0                         8   \n",
       "2            0          35100             0                         7   \n",
       "\n",
       "   number_of_vehicles_involved  property_damage  bodily_injuries  witnesses  \\\n",
       "0                            1                1                1          2   \n",
       "1                            1                0                0          0   \n",
       "2                            3                0                2          3   \n",
       "\n",
       "   police_report_available  total_claim_amount  injury_claim  property_claim  \\\n",
       "0                        1               71610          6510           13020   \n",
       "1                        0                5070           780             780   \n",
       "2                        0               34650          7700            3850   \n",
       "\n",
       "   vehicle_claim  auto_year  fraud_Reported  policy_bind_Date  \\\n",
       "0          52080       2004               1                17   \n",
       "1           3510       2007               1                27   \n",
       "2          23100       2007               0                 6   \n",
       "\n",
       "   policy_bind_month  incident_Date  incident_month  \n",
       "0                 10             25               1  \n",
       "1                  6             21               1  \n",
       "2                  9             22               2  \n",
       "\n",
       "[3 rows x 159 columns]"
      ]
     },
     "execution_count": 69,
     "metadata": {},
     "output_type": "execute_result"
    }
   ],
   "source": [
    "new_data.head(3)"
   ]
  },
  {
   "cell_type": "code",
   "execution_count": 70,
   "id": "1815f43f",
   "metadata": {},
   "outputs": [
    {
     "name": "stdout",
     "output_type": "stream",
     "text": [
      "<class 'pandas.core.frame.DataFrame'>\n",
      "RangeIndex: 1000 entries, 0 to 999\n",
      "Columns: 159 entries, policy_state_IL to incident_month\n",
      "dtypes: float64(1), int64(25), uint8(133)\n",
      "memory usage: 333.1 KB\n"
     ]
    }
   ],
   "source": [
    "new_data.info()"
   ]
  },
  {
   "cell_type": "code",
   "execution_count": 72,
   "id": "54b78cf3",
   "metadata": {},
   "outputs": [],
   "source": [
    "from sklearn.model_selection import train_test_split"
   ]
  },
  {
   "cell_type": "code",
   "execution_count": 73,
   "id": "60a2dff7",
   "metadata": {},
   "outputs": [],
   "source": [
    "features=new_data.drop(\"fraud_Reported\",axis=1)"
   ]
  },
  {
   "cell_type": "code",
   "execution_count": 74,
   "id": "5e0da492",
   "metadata": {},
   "outputs": [],
   "source": [
    "target=new_data[\"fraud_Reported\"]"
   ]
  },
  {
   "cell_type": "code",
   "execution_count": 76,
   "id": "b0e6735d",
   "metadata": {},
   "outputs": [
    {
     "name": "stdout",
     "output_type": "stream",
     "text": [
      "(800, 158)\n",
      "(200, 158)\n",
      "197    0\n",
      "47     1\n",
      "614    0\n",
      "715    1\n",
      "151    0\n",
      "      ..\n",
      "550    0\n",
      "932    0\n",
      "444    0\n",
      "719    0\n",
      "687    0\n",
      "Name: fraud_Reported, Length: 800, dtype: int64\n",
      "(200,)\n"
     ]
    }
   ],
   "source": [
    "X_train,X_test,y_train,y_test=train_test_split(features,target,test_size=0.2)\n",
    "print(X_train.shape)\n",
    "print(X_test.shape)\n",
    "print(y_train)\n",
    "print(y_test.shape)\n",
    "\n"
   ]
  },
  {
   "cell_type": "code",
   "execution_count": 77,
   "id": "d565f60f",
   "metadata": {},
   "outputs": [],
   "source": [
    "from sklearn.ensemble import GradientBoostingClassifier\n",
    "from sklearn.metrics import accuracy_score,mean_squared_error,mean_absolute_error,confusion_matrix"
   ]
  },
  {
   "cell_type": "code",
   "execution_count": 83,
   "id": "7fe91ed4",
   "metadata": {},
   "outputs": [
    {
     "name": "stdout",
     "output_type": "stream",
     "text": [
      "Score 0.975\n",
      "Accuracy: 0.8\n",
      "Mean Squared Error: 0.2\n",
      "Mean Absolute Error: 0.2\n",
      "[[119  28]\n",
      " [ 12  41]]\n"
     ]
    },
    {
     "data": {
      "text/plain": [
       "<Axes: >"
      ]
     },
     "execution_count": 83,
     "metadata": {},
     "output_type": "execute_result"
    },
    {
     "data": {
      "image/png": "[encoded data removed]",
      "text/plain": [
       "<Figure size 640x480 with 2 Axes>"
      ]
     },
     "metadata": {},
     "output_type": "display_data"
    }
   ],
   "source": [
    "Gradi=GradientBoostingClassifier()\n",
    "Gradi.fit(X_train,y_train)\n",
    "y_pred=Gradi.predict(X_test)\n",
    "Acc=accuracy_score(y_test,y_pred)\n",
    "mse=mean_squared_error(y_test,y_pred)\n",
    "mae=mean_absolute_error(y_test,y_pred)\n",
    "\n",
    "Gradi.score(X_train,y_train)\n",
    "cnc=confusion_matrix(y_test,y_pred)\n",
    "print(f'''Score {Gradi.score(X_train,y_train)}''')\n",
    "print(\"Accuracy:\",Acc)\n",
    "print(\"Mean Squared Error:\",mse)\n",
    "print(\"Mean Absolute Error:\",mae)\n",
    "print(cnc)\n",
    "sns.heatmap(cnc,annot=True,fmt='.3f')\n"
   ]
  },
  {
   "cell_type": "code",
   "execution_count": 84,
   "id": "ebd3d097",
   "metadata": {},
   "outputs": [
    {
     "name": "stdout",
     "output_type": "stream",
     "text": [
      "Actual Values: 582    0\n",
      "202    0\n",
      "272    1\n",
      "491    0\n",
      "644    0\n",
      "Name: fraud_Reported, dtype: int64\n",
      "predicted Values: [0 0 1 0 0]\n"
     ]
    }
   ],
   "source": [
    "actual_value=y_test\n",
    "predicted=y_pred\n",
    "print(\"Actual Values:\",actual_value[:5])\n",
    "print(\"predicted Values:\",predicted[:5])\n"
   ]
  },
  {
   "cell_type": "code",
   "execution_count": 88,
   "id": "b0ae2dd8",
   "metadata": {},
   "outputs": [
    {
     "data": {
      "text/plain": [
       "Text(0.5, 1.0, 'Actual Value Vs Predicated Value')"
      ]
     },
     "execution_count": 88,
     "metadata": {},
     "output_type": "execute_result"
    },
    {
     "data": {
      "image/png": "[encoded data removed]",
      "text/plain": [
       "<Figure size 640x480 with 1 Axes>"
      ]
     },
     "metadata": {},
     "output_type": "display_data"
    }
   ],
   "source": [
    "sns.lineplot(x=actual_value,y=predicted)\n",
    "plt.xlabel(\"Actual Value\")\n",
    "plt.ylabel(\"Predicated Value\")\n",
    "plt.title(\"Actual Value Vs Predicated Value\")"
   ]
  },
  {
   "cell_type": "code",
   "execution_count": 89,
   "id": "c0d4bfd4",
   "metadata": {},
   "outputs": [
    {
     "data": {
      "text/plain": [
       "<Axes: >"
      ]
     },
     "execution_count": 89,
     "metadata": {},
     "output_type": "execute_result"
    },
    {
     "data": {
      "image/png": "[encoded data removed]",
      "text/plain": [
       "<Figure size 640x480 with 2 Axes>"
      ]
     },
     "metadata": {},
     "output_type": "display_data"
    }
   ],
   "source": [
    "labels=[\"NO\",\"YES\"]\n",
    "sns.heatmap(cnc,annot=True,fmt=\"d\",cmap='viridis')\n"
   ]
  },
  {
   "cell_type": "code",
   "execution_count": null,
   "id": "a35cda28",
   "metadata": {},
   "outputs": [],
   "source": []
  }
 ],
 "metadata": {
  "kernelspec": {
   "display_name": "Python 3 (ipykernel)",
   "language": "python",
   "name": "python3"
  },
  "language_info": {
   "codemirror_mode": {
    "name": "ipython",
    "version": 3
   },
   "file_extension": ".py",
   "mimetype": "text/x-python",
   "name": "python",
   "nbconvert_exporter": "python",
   "pygments_lexer": "ipython3",
   "version": "3.11.4"
  }
 },
 "nbformat": 4,
 "nbformat_minor": 5
}
